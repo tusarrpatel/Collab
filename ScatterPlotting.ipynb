{
  "nbformat": 4,
  "nbformat_minor": 0,
  "metadata": {
    "colab": {
      "provenance": [],
      "authorship_tag": "ABX9TyPodcm3KmGE+X8T4wTxZWWV",
      "include_colab_link": true
    },
    "kernelspec": {
      "name": "python3",
      "display_name": "Python 3"
    },
    "language_info": {
      "name": "python"
    }
  },
  "cells": [
    {
      "cell_type": "markdown",
      "metadata": {
        "id": "view-in-github",
        "colab_type": "text"
      },
      "source": [
        "<a href=\"https://colab.research.google.com/github/tusarrpatel/Collab/blob/main/ScatterPlotting.ipynb\" target=\"_parent\"><img src=\"https://colab.research.google.com/assets/colab-badge.svg\" alt=\"Open In Colab\"/></a>"
      ]
    },
    {
      "cell_type": "code",
      "execution_count": null,
      "metadata": {
        "id": "dwReUF1io8CS"
      },
      "outputs": [],
      "source": [
        "import pandas as pd\n",
        "import matplotlib.pyplot as plt\n",
        "url = 'https://raw.githubusercontent.com/tusarrpatel/Collab/main/auto-mpg.csv'\n",
        "auto = pd.read_csv(url)\n",
        "auto.head"
      ]
    },
    {
      "cell_type": "code",
      "source": [
        "plt.figure(figsize=(10,10))\n",
        "plt.scatter(auto['weight'],auto['mpg'])\n",
        "plt.plot(auto['weight'],(auto['weight']/ -105)+55,c='red')\n",
        "plt.title('Miles per gallon VS weight of car')\n",
        "plt.xlabel('Weight of car')\n",
        "plt.ylabel('Miles per gallon')\n",
        "plt.show()"
      ],
      "metadata": {
        "id": "Ag8V91FnAhYD"
      },
      "execution_count": null,
      "outputs": []
    }
  ]
}